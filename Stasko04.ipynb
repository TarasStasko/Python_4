{
  "nbformat": 4,
  "nbformat_minor": 0,
  "metadata": {
    "colab": {
      "provenance": [],
      "authorship_tag": "ABX9TyOzCRtDZChFDFsrjxhnCRt4",
      "include_colab_link": true
    },
    "kernelspec": {
      "name": "python3",
      "display_name": "Python 3"
    },
    "language_info": {
      "name": "python"
    }
  },
  "cells": [
    {
      "cell_type": "markdown",
      "metadata": {
        "id": "view-in-github",
        "colab_type": "text"
      },
      "source": [
        "<a href=\"https://colab.research.google.com/github/TarasStasko/Python_4/blob/main/Stasko04.ipynb\" target=\"_parent\"><img src=\"https://colab.research.google.com/assets/colab-badge.svg\" alt=\"Open In Colab\"/></a>"
      ]
    },
    {
      "cell_type": "code",
      "execution_count": null,
      "metadata": {
        "id": "PShZqfb5Z3eJ"
      },
      "outputs": [],
      "source": [
        "# 1.\n",
        "# Функція складається з чотирьох частин: назва функції, тіло функції, параметри, повернене значення."
      ]
    },
    {
      "cell_type": "code",
      "source": [
        "# 2.\n",
        "x = 10\n",
        "y = 4\n",
        "\n",
        "\n",
        "def division(x, y):\n",
        "  result = x/y\n",
        "  return result\n",
        "division(x, y)"
      ],
      "metadata": {
        "colab": {
          "base_uri": "https://localhost:8080/"
        },
        "id": "67H5dkT4e4-e",
        "outputId": "c6e8fb74-e012-4173-cb4e-a27c3369e258"
      },
      "execution_count": null,
      "outputs": [
        {
          "output_type": "execute_result",
          "data": {
            "text/plain": [
              "2.5"
            ]
          },
          "metadata": {},
          "execution_count": 10
        }
      ]
    },
    {
      "cell_type": "code",
      "source": [
        "# 3.\n",
        "x = 10\n",
        "y = 0\n",
        "\n",
        "\n",
        "def division(x, y):\n",
        "  result = x/y\n",
        "  return result\n",
        "division(x, y)"
      ],
      "metadata": {
        "colab": {
          "base_uri": "https://localhost:8080/",
          "height": 297
        },
        "id": "s5dFXFbIfs11",
        "outputId": "f76304c6-859e-4c42-e801-61803342ceb7"
      },
      "execution_count": null,
      "outputs": [
        {
          "output_type": "error",
          "ename": "ZeroDivisionError",
          "evalue": "division by zero",
          "traceback": [
            "\u001b[0;31m---------------------------------------------------------------------------\u001b[0m",
            "\u001b[0;31mZeroDivisionError\u001b[0m                         Traceback (most recent call last)",
            "\u001b[0;32m<ipython-input-19-c3f90ff86009>\u001b[0m in \u001b[0;36m<cell line: 6>\u001b[0;34m()\u001b[0m\n\u001b[1;32m      4\u001b[0m   \u001b[0mresult\u001b[0m \u001b[0;34m=\u001b[0m \u001b[0mx\u001b[0m\u001b[0;34m/\u001b[0m\u001b[0my\u001b[0m\u001b[0;34m\u001b[0m\u001b[0;34m\u001b[0m\u001b[0m\n\u001b[1;32m      5\u001b[0m   \u001b[0;32mreturn\u001b[0m \u001b[0mresult\u001b[0m\u001b[0;34m\u001b[0m\u001b[0;34m\u001b[0m\u001b[0m\n\u001b[0;32m----> 6\u001b[0;31m \u001b[0mdivision\u001b[0m\u001b[0;34m(\u001b[0m\u001b[0mx\u001b[0m\u001b[0;34m,\u001b[0m \u001b[0my\u001b[0m\u001b[0;34m)\u001b[0m\u001b[0;34m\u001b[0m\u001b[0;34m\u001b[0m\u001b[0m\n\u001b[0m",
            "\u001b[0;32m<ipython-input-19-c3f90ff86009>\u001b[0m in \u001b[0;36mdivision\u001b[0;34m(x, y)\u001b[0m\n\u001b[1;32m      2\u001b[0m \u001b[0my\u001b[0m \u001b[0;34m=\u001b[0m \u001b[0;36m0\u001b[0m\u001b[0;34m\u001b[0m\u001b[0;34m\u001b[0m\u001b[0m\n\u001b[1;32m      3\u001b[0m \u001b[0;32mdef\u001b[0m \u001b[0mdivision\u001b[0m\u001b[0;34m(\u001b[0m\u001b[0mx\u001b[0m\u001b[0;34m,\u001b[0m \u001b[0my\u001b[0m\u001b[0;34m)\u001b[0m\u001b[0;34m:\u001b[0m\u001b[0;34m\u001b[0m\u001b[0;34m\u001b[0m\u001b[0m\n\u001b[0;32m----> 4\u001b[0;31m   \u001b[0mresult\u001b[0m \u001b[0;34m=\u001b[0m \u001b[0mx\u001b[0m\u001b[0;34m/\u001b[0m\u001b[0my\u001b[0m\u001b[0;34m\u001b[0m\u001b[0;34m\u001b[0m\u001b[0m\n\u001b[0m\u001b[1;32m      5\u001b[0m   \u001b[0;32mreturn\u001b[0m \u001b[0mresult\u001b[0m\u001b[0;34m\u001b[0m\u001b[0;34m\u001b[0m\u001b[0m\n\u001b[1;32m      6\u001b[0m \u001b[0mdivision\u001b[0m\u001b[0;34m(\u001b[0m\u001b[0mx\u001b[0m\u001b[0;34m,\u001b[0m \u001b[0my\u001b[0m\u001b[0;34m)\u001b[0m\u001b[0;34m\u001b[0m\u001b[0;34m\u001b[0m\u001b[0m\n",
            "\u001b[0;31mZeroDivisionError\u001b[0m: division by zero"
          ]
        }
      ]
    },
    {
      "cell_type": "code",
      "source": [
        "# 4.\n",
        "x = 10\n",
        "y = 0\n",
        "\n",
        "\n",
        "def division(x, y):\n",
        "  if y == 0:\n",
        "    return None\n",
        "  else:\n",
        "    return x/y\n",
        "division(x, y)"
      ],
      "metadata": {
        "id": "mLFKxi8Wf15-"
      },
      "execution_count": null,
      "outputs": []
    },
    {
      "cell_type": "code",
      "source": [
        "# 5.\n",
        "def subtraction(x, y = 1):\n",
        "   return x - y\n",
        "subtraction(5)"
      ],
      "metadata": {
        "colab": {
          "base_uri": "https://localhost:8080/"
        },
        "id": "EI-Q4z6lhUlJ",
        "outputId": "249ae72d-1f53-4606-9571-9736bdb38694"
      },
      "execution_count": null,
      "outputs": [
        {
          "output_type": "execute_result",
          "data": {
            "text/plain": [
              "4"
            ]
          },
          "metadata": {},
          "execution_count": 52
        }
      ]
    },
    {
      "cell_type": "code",
      "source": [
        "# 6.\n",
        "weather_list = ['sunny', 'rainy', 'cloudy', 'sunny', 'cloudy', 'cloudy', 'rainy']\n",
        "\n",
        "\n",
        "def weather(weather_list):\n",
        "  weather_dict = {}\n",
        "  for x in weather_list:\n",
        "    if x in weather_dict:\n",
        "      weather_dict[x] += 1\n",
        "    else:\n",
        "      weather_dict[x] = 1\n",
        "  return weather_dict\n",
        "\n",
        "weather(weather_list)"
      ],
      "metadata": {
        "colab": {
          "base_uri": "https://localhost:8080/"
        },
        "id": "vmQA13FNmS9Q",
        "outputId": "9268c5b2-df73-4188-e24e-473bb13543d8"
      },
      "execution_count": null,
      "outputs": [
        {
          "output_type": "execute_result",
          "data": {
            "text/plain": [
              "{'sunny': 2, 'rainy': 2, 'cloudy': 3}"
            ]
          },
          "metadata": {},
          "execution_count": 62
        }
      ]
    },
    {
      "cell_type": "code",
      "source": [
        "# 7.\n",
        "int_list = [1, 3, 6, 8, 8, 12, 16, 17, 1234]\n",
        "x = int(input('Введіть число: '))\n",
        "\n",
        "\n",
        "def number(int_list, x):\n",
        " start = 0\n",
        " end = len(int_list) - 1\n",
        " while start <= end:\n",
        "  if x == int_list[end]:\n",
        "   return True\n",
        "  elif x < int_list[end]:\n",
        "   end-=1\n",
        "  else:\n",
        "   return False\n",
        "\n",
        "if number(int_list, x):\n",
        "    print(\"Число знайдено.\")\n",
        "else:\n",
        "    print(\"Число не знайдено.\")"
      ],
      "metadata": {
        "colab": {
          "base_uri": "https://localhost:8080/"
        },
        "id": "HJLGANrDqziK",
        "outputId": "0bb116f9-3746-49e5-e8ca-51abf0a18831"
      },
      "execution_count": null,
      "outputs": [
        {
          "output_type": "stream",
          "name": "stdout",
          "text": [
            "Введіть число: 1234\n",
            "Число знайдено.\n"
          ]
        }
      ]
    },
    {
      "cell_type": "code",
      "source": [
        "# 8.\n",
        "# Лямбда-функції зручно використовувати для визначення коротких функцій, які складаються з одного виразу.\n",
        "# Лямбда-функції є анонімними, тобто вони не потребують імені для визначення.\n",
        "# Вони можуть бути використані там, де потрібно передати функцію як аргумент, але вона не використовується в інших місцях коду.\n",
        "# Лямбда-функції дозволяють передавати функції вищих порядків, такі як map, filter, як аргументи без необхідності визначення повноцінної функції."
      ],
      "metadata": {
        "id": "zGwWqvTw43Lc"
      },
      "execution_count": null,
      "outputs": []
    },
    {
      "cell_type": "code",
      "source": [
        "# 9.\n",
        "str_list = [\"abc\", \"def\", \"ghi\"]\n",
        "result = list(map(lambda s: s[0].upper(), str_list))\n",
        "print(result)"
      ],
      "metadata": {
        "id": "lc_OJ_Gs8RXr",
        "colab": {
          "base_uri": "https://localhost:8080/"
        },
        "outputId": "428b05e6-4af3-4e85-96ee-16f3aea1eecd"
      },
      "execution_count": 117,
      "outputs": [
        {
          "output_type": "stream",
          "name": "stdout",
          "text": [
            "['A', 'D', 'G']\n"
          ]
        }
      ]
    },
    {
      "cell_type": "code",
      "source": [
        "# 10.\n",
        "numbers_list = [1, 2, 3, 4, 5, 6, 7, 8, 9, 10, 10.5, 11.5, 12]\n",
        "filtered_numbers = filter(lambda x: x % 3 == 0, numbers_list)\n",
        "result = list(map(lambda x: (x + 1) ** 2, filtered_numbers))\n",
        "print(result)"
      ],
      "metadata": {
        "colab": {
          "base_uri": "https://localhost:8080/"
        },
        "id": "hKbcyGPY-3nn",
        "outputId": "ce45f6d1-86a5-4c7c-9b4a-6ebfadaf2f01"
      },
      "execution_count": 118,
      "outputs": [
        {
          "output_type": "stream",
          "name": "stdout",
          "text": [
            "[16, 49, 100, 169]\n"
          ]
        }
      ]
    },
    {
      "cell_type": "code",
      "source": [
        "# 11.\n",
        "def my_decorator(func):\n",
        "    def wrapper(*args, **kwargs):\n",
        "        print(f\"Початок роботи функції {func.__name__}\")\n",
        "        result = func(*args, **kwargs)\n",
        "        print(f\"Закінчення роботи функції {func.__name__}\")\n",
        "        return result\n",
        "    return wrapper\n",
        "\n",
        "@my_decorator\n",
        "def func():\n",
        "   print(\"Приклад функції\")\n",
        "\n",
        "func()"
      ],
      "metadata": {
        "colab": {
          "base_uri": "https://localhost:8080/"
        },
        "id": "TSNLaDnKHGVL",
        "outputId": "fbacfd0d-411e-4e3f-f09c-0d3754e22a69"
      },
      "execution_count": 124,
      "outputs": [
        {
          "output_type": "stream",
          "name": "stdout",
          "text": [
            "Початок роботи функції func\n",
            "Приклад функції\n",
            "Закінчення роботи функції func\n"
          ]
        }
      ]
    },
    {
      "cell_type": "code",
      "source": [
        "# 12,13\n",
        "@my_decorator\n",
        "def division(x=10, y=0):\n",
        "    if y == 0:\n",
        "        return None\n",
        "    else:\n",
        "        return x/y\n",
        "\n",
        "result1 = division(20, 5)\n",
        "print(\"Результат division:\", result1)\n",
        "\n",
        "decorated_subtraction = my_decorator(subtraction)\n",
        "\n",
        "result2 = decorated_subtraction(10, 1)\n",
        "print(\"Результат subtraction:\", result2)"
      ],
      "metadata": {
        "colab": {
          "base_uri": "https://localhost:8080/"
        },
        "id": "XHAVS9OmPdXm",
        "outputId": "06047444-f3c0-4cd0-e7a5-869cfb2fc202"
      },
      "execution_count": 126,
      "outputs": [
        {
          "output_type": "stream",
          "name": "stdout",
          "text": [
            "Початок роботи функції division\n",
            "Закінчення роботи функції division\n",
            "Результат division: 4.0\n",
            "Початок роботи функції subtraction\n",
            "Закінчення роботи функції subtraction\n",
            "Результат subtraction: 9\n"
          ]
        }
      ]
    },
    {
      "cell_type": "code",
      "source": [
        "# 14.\n",
        "# Базовий випадок, виклик функції з новими аргументами"
      ],
      "metadata": {
        "id": "HZhhLHy2PygF"
      },
      "execution_count": null,
      "outputs": []
    },
    {
      "cell_type": "code",
      "source": [
        "# 15.\n",
        "def fibonacci(index):\n",
        "    if index <= 2:\n",
        "        return index\n",
        "    else:\n",
        "        return fibonacci(index - 1) + fibonacci(index - 2)\n",
        "\n",
        "index = 9\n",
        "result = fibonacci(index)\n",
        "print(f\"Число у послідовності Фібоначчі за індексом {index}: {result}\")"
      ],
      "metadata": {
        "colab": {
          "base_uri": "https://localhost:8080/"
        },
        "id": "CgaOGG_MP7AM",
        "outputId": "6e9e2a3d-4441-4f3a-d33c-3205e85a977a"
      },
      "execution_count": 143,
      "outputs": [
        {
          "output_type": "stream",
          "name": "stdout",
          "text": [
            "Число у послідовності Фібоначчі за індексом 9: 55\n"
          ]
        }
      ]
    }
  ]
}